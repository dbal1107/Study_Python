{
 "cells": [
  {
   "cell_type": "markdown",
   "metadata": {},
   "source": [
    "### if / else 조건 연산자"
   ]
  },
  {
   "cell_type": "markdown",
   "metadata": {},
   "source": [
    "- https://app.diagrams.net/"
   ]
  },
  {
   "cell_type": "markdown",
   "metadata": {},
   "source": [
    "### 조건 설정"
   ]
  },
  {
   "cell_type": "code",
   "execution_count": 2,
   "metadata": {},
   "outputs": [
    {
     "name": "stdout",
     "output_type": "stream",
     "text": [
      "Welcome to the rollercoaster!\n",
      "You can ride the rollercoaster!\n"
     ]
    }
   ],
   "source": [
    "print('Welcome to the rollercoaster!')\n",
    "height = int(input('What is your height in cm? : '))\n",
    "\n",
    "if height >= 120:\n",
    "    print('You can ride the rollercoaster!')\n",
    "else:\n",
    "    print('Sorry, you have to grow taller before you can ride.')"
   ]
  },
  {
   "cell_type": "markdown",
   "metadata": {},
   "source": [
    "#### odd or even"
   ]
  },
  {
   "cell_type": "code",
   "execution_count": 4,
   "metadata": {},
   "outputs": [
    {
     "name": "stdout",
     "output_type": "stream",
     "text": [
      "This is an odd number.\n"
     ]
    }
   ],
   "source": [
    "number = int(input(\"Which number do you want to check? : \"))\n",
    "\n",
    "if number % 2 == 0 :\n",
    "    print('This is a even number.')\n",
    "else :\n",
    "    print('This is an odd number.')"
   ]
  },
  {
   "cell_type": "markdown",
   "metadata": {},
   "source": [
    "### 중첩문"
   ]
  },
  {
   "cell_type": "code",
   "execution_count": 8,
   "metadata": {},
   "outputs": [
    {
     "name": "stdout",
     "output_type": "stream",
     "text": [
      "Welcome to the rollercoaster!\n",
      "You can ride the rollercoaster!\n",
      "Please pay $12.\n"
     ]
    }
   ],
   "source": [
    "print('Welcome to the rollercoaster!')\n",
    "height = int(input('What is your height in cm? : '))\n",
    "\n",
    "if height >= 120:\n",
    "    print('You can ride the rollercoaster!')\n",
    "    age = int(input('What is your age? : '))\n",
    "    if age < 12 :\n",
    "        print('Please pay $5.')\n",
    "    elif age <= 18 :\n",
    "        print('Please pay $7.')\n",
    "    else:\n",
    "        print('Please pay $12.')\n",
    "else:\n",
    "    print('Sorry, you have to grow taller before you can ride.')"
   ]
  },
  {
   "cell_type": "markdown",
   "metadata": {},
   "source": [
    "#### BMI upgrade"
   ]
  },
  {
   "cell_type": "code",
   "execution_count": 19,
   "metadata": {},
   "outputs": [
    {
     "name": "stdout",
     "output_type": "stream",
     "text": [
      "Your BMI is 21.5, you are a normal weight.\n"
     ]
    }
   ],
   "source": [
    "height = float(input(\"enter your height in cm: \"))\n",
    "weight = float(input(\"enter your weight in kg: \"))\n",
    "\n",
    "BMI = round(weight/(height*0.01)**2,1)\n",
    "# BMI = 18.5\n",
    "\n",
    "if BMI < 18.5 :\n",
    "    print(f'Your BMI is {BMI}, you are underweight.')\n",
    "elif BMI < 25 :\n",
    "    print(f'Your BMI is {BMI}, you are a normal weight.')\n",
    "elif BMI < 30 :\n",
    "    print(f'Your BMI is {BMI}, you are slightly overweight.')\n",
    "elif BMI < 35 :\n",
    "    print(f'Your BMI is {BMI}, you are obese.')\n",
    "else :\n",
    "    print(f'Your BMI is {BMI}, you are clinically obese.')"
   ]
  },
  {
   "cell_type": "markdown",
   "metadata": {},
   "source": [
    "#### 윤년 계산하기\n",
    "- 2년에 한번 2월에 하루가 더 있다.\n",
    "    - 4로 나눠지면 윤년\n",
    "    - 4, 100으로 나누어지면 평년\n",
    "    - 4, 100, 400 으로 나누어지면 윤년 </br>\n",
    "    \n",
    "<img src='./data/03_leap_flow.png' width='500'>"
   ]
  },
  {
   "cell_type": "markdown",
   "metadata": {},
   "source": [
    "- 논리연산자 사용"
   ]
  },
  {
   "cell_type": "code",
   "execution_count": 24,
   "metadata": {},
   "outputs": [
    {
     "name": "stdout",
     "output_type": "stream",
     "text": [
      "1500 is not leap year\n"
     ]
    }
   ],
   "source": [
    "# 실패!\n",
    "year = int(input(\"Which year do you want to check? : \"))\n",
    "\n",
    "if (year % 400 and year & 4) == 0 : # ()를 통해 조건 순서 바뀜\n",
    "    print(f'{year} is leap year.')\n",
    "elif (year % 4 and year % 100) == 0 :\n",
    "    print(f'{year} is not leap year')\n",
    "else:\n",
    "    print(f'{year} is not leap year')"
   ]
  },
  {
   "cell_type": "code",
   "execution_count": 25,
   "metadata": {},
   "outputs": [
    {
     "name": "stdout",
     "output_type": "stream",
     "text": [
      "1988 is leap year.\n"
     ]
    }
   ],
   "source": [
    "year = int(input(\"Which year do you want to check? : \"))\n",
    "\n",
    "if (year % 4 == 0 and year & 100 != 0) or year % 400 == 0 :\n",
    "    print(f'{year} is leap year.')\n",
    "else:\n",
    "    print(f'{year} is not leap year')"
   ]
  },
  {
   "cell_type": "markdown",
   "metadata": {},
   "source": [
    "### 다중 if문"
   ]
  },
  {
   "cell_type": "code",
   "execution_count": 27,
   "metadata": {},
   "outputs": [
    {
     "name": "stdout",
     "output_type": "stream",
     "text": [
      "Welcome to the rollercoaster!\n",
      "You can ride the rollercoaster!\n",
      "Please pay $12.\n",
      "Your final bill is $15.\n"
     ]
    }
   ],
   "source": [
    "print('Welcome to the rollercoaster!')\n",
    "height = int(input('What is your height in cm? : '))\n",
    "bill = 0\n",
    "\n",
    "if height >= 120:\n",
    "    print('You can ride the rollercoaster!')\n",
    "    age = int(input('What is your age? : '))\n",
    "    if age < 12 :\n",
    "        bill += 5\n",
    "        print('Please pay $5.')\n",
    "    elif age <= 18 :\n",
    "        bill += 7\n",
    "        print('Please pay $7.')\n",
    "    else:\n",
    "        bill += 12\n",
    "        print('Please pay $12.')\n",
    "    \n",
    "    photo = input('Do you want a photo taken? Y or N : ').upper()\n",
    "    if photo == 'Y' :\n",
    "        bill += 3\n",
    "\n",
    "    print(f'Your final bill is ${bill}.')\n",
    "\n",
    "else:\n",
    "    print('Sorry, you have to grow taller before you can ride.')"
   ]
  },
  {
   "cell_type": "markdown",
   "metadata": {},
   "source": [
    "#### 피자 주문"
   ]
  },
  {
   "cell_type": "code",
   "execution_count": 28,
   "metadata": {},
   "outputs": [
    {
     "name": "stdout",
     "output_type": "stream",
     "text": [
      "Welcome to Python Pizza Deliveries!\n",
      "Your final bill is: $18\n"
     ]
    }
   ],
   "source": [
    "print(\"Welcome to Python Pizza Deliveries!\")\n",
    "size = input(\"What size pizza do you want? S, M, or L \").upper()\n",
    "add_pepperoni = input(\"Do you want pepperoni? Y or N \").upper()\n",
    "extra_cheese = input(\"Do you want extra cheese? Y or N \").upper()\n",
    "bill = 0\n",
    "\n",
    "if size == 'S' :\n",
    "    bill += 15\n",
    "    if add_pepperoni == 'Y' :\n",
    "        bill += 2\n",
    "        \n",
    "elif size == 'M' :\n",
    "    bill += 20\n",
    "    if add_pepperoni == 'Y' :\n",
    "        bill += 3\n",
    "\n",
    "elif size == 'L' :\n",
    "    bill += 25\n",
    "    if add_pepperoni == 'Y' :\n",
    "        bill += 3\n",
    "\n",
    "if extra_cheese == 'Y' :\n",
    "    bill += 1\n",
    "\n",
    "print(f'Your final bill is: ${bill}')"
   ]
  },
  {
   "cell_type": "markdown",
   "metadata": {},
   "source": [
    "### 논리 연산자"
   ]
  },
  {
   "cell_type": "code",
   "execution_count": 31,
   "metadata": {},
   "outputs": [
    {
     "name": "stdout",
     "output_type": "stream",
     "text": [
      "Welcome to the rollercoaster!\n",
      "You can ride the rollercoaster!\n",
      "Everything is going to be ok. Have a free ride on us!\n",
      "Your final bill is $3.\n"
     ]
    }
   ],
   "source": [
    "print('Welcome to the rollercoaster!')\n",
    "height = int(input('What is your height in cm? : '))\n",
    "bill = 0\n",
    "\n",
    "if height >= 120:\n",
    "    print('You can ride the rollercoaster!')\n",
    "    age = int(input('What is your age? : '))\n",
    "    if age < 12 :\n",
    "        bill += 5\n",
    "        print('Please pay $5.')\n",
    "    elif age <= 18 :\n",
    "        bill += 7\n",
    "        print('Please pay $7.')\n",
    "    elif age >= 45 and age <= 55:\n",
    "        print('Everything is going to be ok. Have a free ride on us!')\n",
    "    else:\n",
    "        bill += 12\n",
    "        print('Please pay $12.')\n",
    "    \n",
    "    photo = input('Do you want a photo taken? Y or N : ').upper()\n",
    "    if photo == 'Y' :\n",
    "        bill += 3\n",
    "\n",
    "    print(f'Your final bill is ${bill}.')\n",
    "\n",
    "else:\n",
    "    print('Sorry, you have to grow taller before you can ride.')"
   ]
  },
  {
   "cell_type": "markdown",
   "metadata": {},
   "source": [
    "#### 사랑 계산기\n",
    "https://www.buzzfeed.com/ariannarebolini/what-are-the-chances-your-crush-is-actually-your-true-love"
   ]
  },
  {
   "cell_type": "code",
   "execution_count": 61,
   "metadata": {},
   "outputs": [
    {
     "name": "stdout",
     "output_type": "stream",
     "text": [
      "Welcome to the Love Calculator!\n",
      "Your love score is 45 %, you are alright together.\n"
     ]
    }
   ],
   "source": [
    "print(\"Welcome to the Love Calculator!\")\n",
    "name1 = input(\"What is your name? \\n\").lower()\n",
    "name2 = input(\"What is their name? \\n\").lower()\n",
    "true = ['t', 'r', 'u', 'e']\n",
    "love = ['l', 'o', 'v', 'e']\n",
    "tCount = 0\n",
    "lCount = 0\n",
    "\n",
    "for i in true : \n",
    "    tCount += (name1 + name2).count(i)\n",
    "a = tCount\n",
    "\n",
    "for i in love : \n",
    "    lCount += (name1 + name2).count(i)\n",
    "b = lCount\n",
    "\n",
    "result = a * 10 + b\n",
    "\n",
    "if result < 10 or result > 90 :\n",
    "    print(f'Your love score is {result}%, you go together like coke and mentos')\n",
    "elif result >= 40 and result <= 50 :\n",
    "    print(f'Your love score is {result} %, you are alright together.')\n",
    "else:\n",
    "    print(f'Your lovescore is {result} %.')"
   ]
  },
  {
   "cell_type": "code",
   "execution_count": null,
   "metadata": {},
   "outputs": [],
   "source": []
  }
 ],
 "metadata": {
  "kernelspec": {
   "display_name": "Python 3.10.5 64-bit",
   "language": "python",
   "name": "python3"
  },
  "language_info": {
   "codemirror_mode": {
    "name": "ipython",
    "version": 3
   },
   "file_extension": ".py",
   "mimetype": "text/x-python",
   "name": "python",
   "nbconvert_exporter": "python",
   "pygments_lexer": "ipython3",
   "version": "3.10.5"
  },
  "orig_nbformat": 4,
  "vscode": {
   "interpreter": {
    "hash": "534cbf11e449cbe77057ca4be7f556b2dabbd5db9d62dde642d9237b84e999cf"
   }
  }
 },
 "nbformat": 4,
 "nbformat_minor": 2
}
