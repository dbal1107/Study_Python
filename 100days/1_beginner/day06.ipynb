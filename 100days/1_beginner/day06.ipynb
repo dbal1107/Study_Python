{
 "cells": [
  {
   "cell_type": "markdown",
   "metadata": {},
   "source": [
    "### 1. 함수\n"
   ]
  },
  {
   "cell_type": "markdown",
   "metadata": {},
   "source": [
    "- <a href='https://reeborg.ca/reeborg.html?lang=en&mode=python&menu=worlds%2Fmenus%2Freeborg_intro_en.json&name=Hurdle%201&url=worlds%2Ftutorial_en%2Fhurdle1.json'>Reeborg's world: def</a>"
   ]
  },
  {
   "cell_type": "markdown",
   "metadata": {},
   "source": [
    "<img src='./data/06_jump.png' width='500'>"
   ]
  },
  {
   "cell_type": "code",
   "execution_count": null,
   "metadata": {},
   "outputs": [],
   "source": [
    "# def\n",
    "\n",
    "def turn_right() :\n",
    "    turn_left()\n",
    "    turn_left()\n",
    "    turn_left()\n",
    "\n",
    "def jump() :\n",
    "    move()\n",
    "    turn_right()\n",
    "    \n",
    "def rule() :\n",
    "    move()\n",
    "    turn_left()\n",
    "    jump()\n",
    "    jump()\n",
    "    move()\n",
    "    turn_left()\n",
    "\n",
    "for i in range(6):\n",
    "    rule()"
   ]
  },
  {
   "cell_type": "markdown",
   "metadata": {},
   "source": [
    "### 2. while"
   ]
  },
  {
   "cell_type": "markdown",
   "metadata": {},
   "source": [
    "- <a href='https://reeborg.ca/reeborg.html?lang=en&mode=python&menu=worlds%2Fmenus%2Freeborg_intro_en.json&name=Hurdle%201&url=worlds%2Ftutorial_en%2Fhurdle1.json'>Reeborg's world: while1</a>\n",
    "\n",
    "- <a href='https://reeborg.ca/reeborg.html?lang=en&mode=python&menu=worlds%2Fmenus%2Freeborg_intro_en.json&name=Hurdle%202&url=worlds%2Ftutorial_en%2Fhurdle2.json'>Reeborg's world: while2</a>\n",
    "\n",
    "- <a href='https://reeborg.ca/reeborg.html?lang=en&mode=python&menu=worlds%2Fmenus%2Freeborg_intro_en.json&name=Hurdle%203&url=worlds%2Ftutorial_en%2Fhurdle3.json'>Reeborg's world: while3</a>\n",
    "\n",
    "- <a href='https://reeborg.ca/reeborg.html?lang=en&mode=python&menu=worlds%2Fmenus%2Freeborg_intro_en.json&name=Hurdle%204&url=worlds%2Ftutorial_en%2Fhurdle4.json'>Reeborg's world: while4</a>"
   ]
  },
  {
   "cell_type": "markdown",
   "metadata": {},
   "source": [
    "- while 3 </br>\n",
    "<img src='./data/06_jump3.png' width='500'>\n",
    "- while 4 </br>\n",
    "<img src='./data/06_jump4.png' width='500'>"
   ]
  },
  {
   "cell_type": "code",
   "execution_count": null,
   "metadata": {},
   "outputs": [],
   "source": [
    "# while 1\n",
    "\n",
    "def turn_right() :\n",
    "    turn_left()\n",
    "    turn_left()\n",
    "    turn_left()\n",
    "\n",
    "def jump() :\n",
    "    move()\n",
    "    turn_right()\n",
    "    \n",
    "def rule() :\n",
    "    move()\n",
    "    turn_left()\n",
    "    jump()\n",
    "    jump()\n",
    "    move()\n",
    "    turn_left()\n",
    "\n",
    "run = 6\n",
    "while run > 0 :\n",
    "    rule()\n",
    "    run -= 1"
   ]
  },
  {
   "cell_type": "code",
   "execution_count": null,
   "metadata": {},
   "outputs": [],
   "source": [
    "# while 3\n",
    "\n",
    "def turn_right() :\n",
    "    turn_left()\n",
    "    turn_left()\n",
    "    turn_left()\n",
    "\n",
    "def jump() :\n",
    "    move()\n",
    "    turn_right()\n",
    "    \n",
    "def rule() :\n",
    "    turn_left()\n",
    "    jump()\n",
    "    jump()\n",
    "    move()\n",
    "    turn_left()\n",
    "\n",
    "while not at_goal():\n",
    "    if wall_in_front():\n",
    "        rule()\n",
    "    else :\n",
    "        move()\n",
    "        "
   ]
  },
  {
   "cell_type": "code",
   "execution_count": null,
   "metadata": {},
   "outputs": [],
   "source": [
    "# while 4\n",
    "\n",
    "def turn_right() :\n",
    "    turn_left()\n",
    "    turn_left()\n",
    "    turn_left()\n",
    "\n",
    "def jump() :\n",
    "    move()\n",
    "    turn_right()\n",
    "    \n",
    "def rule() :\n",
    "    turn_left()\n",
    "    while wall_on_right() :\n",
    "        move()\n",
    "    turn_right()\n",
    "    move()\n",
    "    turn_right()\n",
    "    while front_is_clear():\n",
    "        move()\n",
    "    turn_left()\n",
    "\n",
    "while not at_goal():\n",
    "    if wall_in_front():\n",
    "        rule()\n",
    "    else :\n",
    "        move()\n",
    "        "
   ]
  },
  {
   "cell_type": "code",
   "execution_count": null,
   "metadata": {},
   "outputs": [],
   "source": []
  }
 ],
 "metadata": {
  "kernelspec": {
   "display_name": "Python 3.10.8 64-bit",
   "language": "python",
   "name": "python3"
  },
  "language_info": {
   "name": "python",
   "version": "3.10.8"
  },
  "orig_nbformat": 4,
  "vscode": {
   "interpreter": {
    "hash": "534cbf11e449cbe77057ca4be7f556b2dabbd5db9d62dde642d9237b84e999cf"
   }
  }
 },
 "nbformat": 4,
 "nbformat_minor": 2
}
