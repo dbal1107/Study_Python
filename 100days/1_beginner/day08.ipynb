{
 "cells": [
  {
   "cell_type": "markdown",
   "metadata": {},
   "source": [
    "### 1. 함수의 매개변수"
   ]
  },
  {
   "cell_type": "markdown",
   "metadata": {},
   "source": [
    "#### 페인트 계산기"
   ]
  },
  {
   "cell_type": "code",
   "execution_count": 9,
   "metadata": {},
   "outputs": [],
   "source": [
    "def paint(height, width, cover):\n",
    "    can = 0\n",
    "    can = round(height * width / cover)\n",
    "    print(f'We need {can} cans')\n",
    "\n",
    "test_h = int(input(\"Height of wall: \"))\n",
    "test_w = int(input(\"Width of wall: \"))\n",
    "coverage = 5\n",
    "\n",
    "paint(height=test_h, width=test_w, cover=coverage)"
   ]
  },
  {
   "cell_type": "markdown",
   "metadata": {},
   "source": [
    "#### 소수확인기"
   ]
  },
  {
   "cell_type": "code",
   "execution_count": 15,
   "metadata": {},
   "outputs": [
    {
     "name": "stdout",
     "output_type": "stream",
     "text": [
      "It's a prime number.\n"
     ]
    }
   ],
   "source": [
    "def prime_checker(number):\n",
    "    is_prime = True\n",
    "    for i in range(2, number):\n",
    "        if number % i == 0:\n",
    "            is_prime = False\n",
    "    if is_prime:\n",
    "        print(\"It's a prime number.\")\n",
    "    else:\n",
    "        print(\"It's not a prime number.\")\n",
    "        \n",
    "n = int(input(\"Check this number: \"))\n",
    "prime_checker(number=n)"
   ]
  },
  {
   "cell_type": "markdown",
   "metadata": {},
   "source": [
    "### 2. 카이사르 암호기"
   ]
  },
  {
   "cell_type": "markdown",
   "metadata": {},
   "source": [
    "#### encrypt & decrypt"
   ]
  },
  {
   "cell_type": "code",
   "execution_count": 1,
   "metadata": {},
   "outputs": [
    {
     "name": "stdout",
     "output_type": "stream",
     "text": [
      "The decoded text is fg\n"
     ]
    }
   ],
   "source": [
    "alphabet = ['a', 'b', 'c', 'd', 'e', 'f', 'g', 'h', 'i', 'j', 'k', 'l', 'm', 'n', 'o', 'p', 'q', 'r', 's', 't', 'u', 'v', 'w', 'x', 'y', 'z']\n",
    "\n",
    "direction = input(\"Type 'encode' to encrypt, type 'decode' to decrypt:\\n\")\n",
    "text = input(\"Type your message:\\n\").lower()\n",
    "shift = int(input(\"Type the shift number:\\n\"))\n",
    "\n",
    "# 암호화\n",
    "def encrypt(first_text, shiftNum):\n",
    "\n",
    "    secret = ''\n",
    "    for i in first_text:\n",
    "        position = alphabet.index(i)\n",
    "        new_position = position + shiftNum\n",
    "        if new_position >= len(alphabet):\n",
    "            new_position = new_position - len(alphabet)\n",
    "        new_text = alphabet[new_position]\n",
    "        secret += new_text\n",
    "    print(f'The encoded text is {secret}')\n",
    "    \n",
    "\n",
    "# 복호화\n",
    "def decrypt(first_text, shiftNum):\n",
    "\n",
    "    original = ''\n",
    "    for i in first_text:\n",
    "        position = alphabet.index(i)\n",
    "        new_position = position - shiftNum\n",
    "        if new_position <= -1:\n",
    "            new_position = len(alphabet) + new_position\n",
    "        new_text = alphabet[new_position]\n",
    "        original += new_text\n",
    "    print(f'The decoded text is {original}')\n",
    "\n",
    "if direction == 'encode':\n",
    "    encrypt(first_text=text, shiftNum=shift)\n",
    "\n",
    "elif direction == 'decode':\n",
    "    decrypt(first_text=text, shiftNum=shift)\n"
   ]
  },
  {
   "cell_type": "markdown",
   "metadata": {},
   "source": [
    "#### encrypt + decrypt (my code)"
   ]
  },
  {
   "cell_type": "code",
   "execution_count": 4,
   "metadata": {},
   "outputs": [
    {
     "name": "stdout",
     "output_type": "stream",
     "text": [
      "The decode text is yz\n"
     ]
    }
   ],
   "source": [
    "alphabet = ['a', 'b', 'c', 'd', 'e', 'f', 'g', 'h', 'i', 'j', 'k', 'l', 'm', 'n', 'o', 'p', 'q', 'r', 's', 't', 'u', 'v', 'w', 'x', 'y', 'z']\n",
    "\n",
    "direction = input(\"Type 'encode' to encrypt, type 'decode' to decrypt:\\n\")\n",
    "text = input(\"Type your message:\\n\").lower()\n",
    "shift = int(input(\"Type the shift number:\\n\"))\n",
    "\n",
    "def caesar(first_text, shiftNum, choose_code):\n",
    "\n",
    "    secret = ''\n",
    "    for i in first_text:\n",
    "        position = alphabet.index(i)\n",
    "        if choose_code == 'encode':\n",
    "            new_position = position + shiftNum\n",
    "            if new_position >= len(alphabet):\n",
    "                new_position = new_position - len(alphabet)\n",
    "            new_text = alphabet[new_position]\n",
    "            secret += new_text\n",
    "        elif choose_code == 'decode':\n",
    "            new_position = position - shiftNum\n",
    "            if new_position <= -1:\n",
    "                new_position = len(alphabet) + new_position\n",
    "            new_text = alphabet[new_position]\n",
    "            secret += new_text\n",
    "    \n",
    "    print(f'The {choose_code}d text is {secret}')\n",
    "\n",
    "\n",
    "caesar(first_text=text, shiftNum=shift, choose_code=direction)\n"
   ]
  },
  {
   "cell_type": "markdown",
   "metadata": {},
   "source": [
    "#### encrypt + decrypt (recode)"
   ]
  },
  {
   "cell_type": "markdown",
   "metadata": {},
   "source": [
    "- 더 간단히 해봤숨다"
   ]
  },
  {
   "cell_type": "code",
   "execution_count": 21,
   "metadata": {},
   "outputs": [
    {
     "name": "stdout",
     "output_type": "stream",
     "text": [
      "The encoded text is abcdefghijklmnopqrstuvwxyz\n"
     ]
    }
   ],
   "source": [
    "alphabet = ['a', 'b', 'c', 'd', 'e', 'f', 'g', 'h', 'i', 'j', 'k', 'l', 'm', 'n', 'o', 'p', 'q', 'r', 's', 't', 'u', 'v', 'w', 'x', 'y', 'z']\n",
    "\n",
    "direction = input(\"Type 'encode' to encrypt, type 'decode' to decrypt:\\n\")\n",
    "text = input(\"Type your message:\\n\").lower()\n",
    "shift = int(input(\"Type the shift number:\\n\"))\n",
    "\n",
    "def caesar(first_text, shiftNum, choose_code):\n",
    "\n",
    "    secret = ''\n",
    "    if choose_code == 'decode':\n",
    "        shiftNum *= -1\n",
    "\n",
    "    for i in first_text:\n",
    "        position = alphabet.index(i)\n",
    "        new_position = (position + shiftNum) % 26\n",
    "        # if new_position >= len(alphabet):\n",
    "        #     new_position = new_position - len(alphabet)\n",
    "        new_text = alphabet[new_position]\n",
    "        secret += new_text\n",
    "    \n",
    "    print(f'The {choose_code}d text is {secret}')\n",
    "\n",
    "caesar(first_text=text, shiftNum=shift, choose_code=direction)"
   ]
  },
  {
   "cell_type": "markdown",
   "metadata": {},
   "source": [
    "#### 기능추가\n"
   ]
  },
  {
   "cell_type": "code",
   "execution_count": 22,
   "metadata": {},
   "outputs": [
    {
     "name": "stdout",
     "output_type": "stream",
     "text": [
      "           \n",
      " ,adPPYba, ,adPPYYba,  ,adPPYba, ,adPPYba, ,adPPYYba, 8b,dPPYba,  \n",
      "a8\"     \"\" \"\"     `Y8 a8P_____88 I8[    \"\" \"\"     `Y8 88P'   \"Y8  \n",
      "8b         ,adPPPPP88 8PP\"  `\"Y8ba,  ,adPPPPP88 88          \n",
      "\"8a,   ,aa 88,    ,88 \"8b,   ,aa aa    ]8I 88,    ,88 88          \n",
      " `\"Ybbd8\"' `\"8bbdP\"Y8  `\"Ybbd8\"' `\"YbbdP\"' `\"8bbdP\"Y8 88   \n",
      "            88             88                                 \n",
      "           \"\"             88                                 \n",
      "                          88                                 \n",
      " ,adPPYba, 88 8b,dPPYba,  88,dPPYba,   ,adPPYba, 8b,dPPYba,  \n",
      "a8\"     \"\" 88 88P'    \"8a 88P'    \"8a a8P_____88 88P'   \"Y8  \n",
      "8b         88 88       d8 88       88 8PP\" 88          \n",
      "\"8a,   ,aa 88 88b,   ,a8\" 88       88 \"8b,   ,aa 88          \n",
      " `\"Ybbd8\"' 88 88`YbbdP\"'  88       88  `\"Ybbd8\"' 88          \n",
      "              88                                             \n",
      "              88           \n",
      "\n",
      "The decoded text is \"1 abcdefghijklmnopqrstuvwxyz 2\"\n",
      "The encoded text is \"1 abcdefghijklmnopqrstuvwxyz 2\"\n",
      "Goodbye🖐\n"
     ]
    }
   ],
   "source": [
    "from day08_logo import logo\n",
    "print(logo)\n",
    "\n",
    "alphabet = ['a', 'b', 'c', 'd', 'e', 'f', 'g', 'h', 'i', 'j', 'k', 'l', 'm', 'n', 'o', 'p', 'q', 'r', 's', 't', 'u', 'v', 'w', 'x', 'y', 'z']\n",
    "\n",
    "def caesar(first_text, shiftNum, choose_code):\n",
    "\n",
    "    secret = ''\n",
    "    if choose_code == 'decode':\n",
    "        shiftNum *= -1\n",
    "\n",
    "    for i in first_text:\n",
    "        if i not in alphabet:\n",
    "            secret += i\n",
    "            continue\n",
    "        position = alphabet.index(i)\n",
    "        new_position = (position + shiftNum) % 26\n",
    "        new_text = alphabet[new_position]\n",
    "        secret += new_text\n",
    "    \n",
    "    print(f'The {choose_code}d text is \"{secret}\"')\n",
    "\n",
    "restart = True\n",
    "while restart:\n",
    "    direction = input(\"Type 'encode' to encrypt, type 'decode' to decrypt:\\n\")\n",
    "    text = input(\"Type your message:\\n\").lower()\n",
    "    shift = int(input(\"Type the shift number:\\n\"))\n",
    "\n",
    "    caesar(first_text=text, shiftNum=shift, choose_code=direction)\n",
    "\n",
    "    type = input(\"Type 'yes' if you want to go again. Otherwise type 'no'.\\n\").lower()\n",
    "    if type == 'no':\n",
    "        restart = False\n",
    "        print(\"Goodbye🖐\")"
   ]
  },
  {
   "cell_type": "code",
   "execution_count": null,
   "metadata": {},
   "outputs": [],
   "source": []
  }
 ],
 "metadata": {
  "kernelspec": {
   "display_name": "Python 3.10.8 64-bit",
   "language": "python",
   "name": "python3"
  },
  "language_info": {
   "codemirror_mode": {
    "name": "ipython",
    "version": 3
   },
   "file_extension": ".py",
   "mimetype": "text/x-python",
   "name": "python",
   "nbconvert_exporter": "python",
   "pygments_lexer": "ipython3",
   "version": "3.10.8"
  },
  "orig_nbformat": 4,
  "vscode": {
   "interpreter": {
    "hash": "534cbf11e449cbe77057ca4be7f556b2dabbd5db9d62dde642d9237b84e999cf"
   }
  }
 },
 "nbformat": 4,
 "nbformat_minor": 2
}
