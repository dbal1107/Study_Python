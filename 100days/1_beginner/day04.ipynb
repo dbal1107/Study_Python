{
 "cells": [
  {
   "cell_type": "markdown",
   "metadata": {},
   "source": [
    "### 1. Random 모듈"
   ]
  },
  {
   "cell_type": "code",
   "execution_count": 15,
   "metadata": {},
   "outputs": [
    {
     "name": "stdout",
     "output_type": "stream",
     "text": [
      "6\n",
      "3.6641297808971367\n",
      "Your love score is 25 %\n"
     ]
    }
   ],
   "source": [
    "import random\n",
    "\n",
    "random_integer = random.randint(1, 10)\n",
    "print(random_integer)\n",
    "\n",
    "random_float = random.random() * 5 # 0.xxx * 5 하면 0~5 (5제외) 사이의 숫자(소수)로 들어가게 된다\n",
    "print(random_float)\n",
    "\n",
    "love_score = random.randint(1, 100)\n",
    "print(f'Your love score is {love_score} %')"
   ]
  },
  {
   "cell_type": "markdown",
   "metadata": {},
   "source": [
    "#### 동전던지기"
   ]
  },
  {
   "cell_type": "code",
   "execution_count": 20,
   "metadata": {},
   "outputs": [
    {
     "name": "stdout",
     "output_type": "stream",
     "text": [
      "Heads\n"
     ]
    }
   ],
   "source": [
    "coin = random.randint(0, 1)\n",
    "if coin == 0 :\n",
    "    print('Tails')\n",
    "else :\n",
    "    print('Heads')"
   ]
  },
  {
   "cell_type": "markdown",
   "metadata": {},
   "source": [
    "### 2. 리스트"
   ]
  },
  {
   "cell_type": "markdown",
   "metadata": {},
   "source": [
    "#### 명함  룰렛\n",
    "- 리스트 내용 랜덤으로 불러오기"
   ]
  },
  {
   "cell_type": "code",
   "execution_count": 31,
   "metadata": {},
   "outputs": [
    {
     "name": "stdout",
     "output_type": "stream",
     "text": [
      "Chloe is going to buy the meal today!\n"
     ]
    }
   ],
   "source": [
    "test_seed = int(input(\"Create a seed number: \"))\n",
    "random.seed(test_seed)\n",
    "\n",
    "names_string = input(\"Give me everybody's names, separated by a comma. \")\n",
    "# names_string = \"Angela, Ben, Jenny, Michael, Chloe\"\n",
    "names = names_string.split(\", \")\n",
    "random_name = random.randint(0, len(names)-1)\n",
    "\n",
    "print(f'{names[random_name]} is going to buy the meal today!')\n"
   ]
  },
  {
   "cell_type": "markdown",
   "metadata": {},
   "source": [
    "- random.choice() </br>\n",
    "위 과정 생략으로 더 간단하게 사용가능"
   ]
  },
  {
   "cell_type": "code",
   "execution_count": 32,
   "metadata": {},
   "outputs": [
    {
     "name": "stdout",
     "output_type": "stream",
     "text": [
      "Chloe is going to buy the meal today!\n"
     ]
    }
   ],
   "source": [
    "test_seed = int(input(\"Create a seed number: \"))\n",
    "random.seed(test_seed)\n",
    "\n",
    "names_string = input(\"Give me everybody's names, separated by a comma. \")\n",
    "# names_string = \"Angela, Ben, Jenny, Michael, Chloe\"\n",
    "# names = names_string.split(\", \")\n",
    "# random_name = random.randint(0, len(names)-1)\n",
    "random_choice = random.choice(names)\n",
    "\n",
    "print(f'{random_choice} is going to buy the meal today!')\n"
   ]
  },
  {
   "cell_type": "markdown",
   "metadata": {},
   "source": [
    "### 3. 중첩 리스트"
   ]
  },
  {
   "cell_type": "code",
   "execution_count": 37,
   "metadata": {},
   "outputs": [
    {
     "name": "stdout",
     "output_type": "stream",
     "text": [
      "apples\n",
      "tomatoes\n"
     ]
    }
   ],
   "source": [
    "fruits = ['strawberries', 'nectarines', 'apples', 'grapes',' peaches', 'cherries', 'pears']\n",
    "vegetables = ['spinach', 'kale', 'tomatoes', 'celery', 'potatoes']\n",
    "\n",
    "eat = [fruits, vegetables]\n",
    "\n",
    "print(eat[0][2])\n",
    "print(eat[1][2])"
   ]
  },
  {
   "cell_type": "markdown",
   "metadata": {},
   "source": [
    "#### 보물찾기\n"
   ]
  },
  {
   "cell_type": "code",
   "execution_count": 41,
   "metadata": {},
   "outputs": [
    {
     "name": "stdout",
     "output_type": "stream",
     "text": [
      "['⬜️', '️⬜️', '️⬜️']\n",
      "['⬜️', '⬜️', '️⬜️']\n",
      "['⬜️️', '⬜️️', '⬜️️']\n",
      "\n",
      "['⬜️', '️⬜️', '[X]']\n",
      "['⬜️', '⬜️', '️⬜️']\n",
      "['⬜️️', '⬜️️', '⬜️️']\n"
     ]
    }
   ],
   "source": [
    "row1 = [\"⬜️\",\"️⬜️\",\"️⬜️\"]\n",
    "row2 = [\"⬜️\",\"⬜️\",\"️⬜️\"]\n",
    "row3 = [\"⬜️️\",\"⬜️️\",\"⬜️️\"]\n",
    "map = [row1, row2, row3]\n",
    "print(f\"{row1}\\n{row2}\\n{row3}\\n\")\n",
    "position = input(\"Where do you want to put the treasure? \")\n",
    "\n",
    "row = int(position[1])-1 # 문자열 에러 -> int\n",
    "column = int(position[0])-1 # 인덱스 범위 에러 -> -1\n",
    "\n",
    "map[row][column] = '[X]'\n",
    "\n",
    "print(f\"{row1}\\n{row2}\\n{row3}\")"
   ]
  },
  {
   "cell_type": "code",
   "execution_count": null,
   "metadata": {},
   "outputs": [],
   "source": []
  }
 ],
 "metadata": {
  "kernelspec": {
   "display_name": "Python 3.10.5 64-bit",
   "language": "python",
   "name": "python3"
  },
  "language_info": {
   "codemirror_mode": {
    "name": "ipython",
    "version": 3
   },
   "file_extension": ".py",
   "mimetype": "text/x-python",
   "name": "python",
   "nbconvert_exporter": "python",
   "pygments_lexer": "ipython3",
   "version": "3.10.5"
  },
  "orig_nbformat": 4,
  "vscode": {
   "interpreter": {
    "hash": "534cbf11e449cbe77057ca4be7f556b2dabbd5db9d62dde642d9237b84e999cf"
   }
  }
 },
 "nbformat": 4,
 "nbformat_minor": 2
}
